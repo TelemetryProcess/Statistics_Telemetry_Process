{
  "cells": [
    {
      "cell_type": "markdown",
      "metadata": {
        "id": "tTuUm_FLq6Lh"
      },
      "source": [
        "# Basic Statistics for telemetry Process"
      ]
    },
    {
      "cell_type": "markdown",
      "metadata": {
        "id": "vlF28Isfq6Lj"
      },
      "source": [
        "\n",
        "## Telemetry Team\n",
        "*yltabord*  - *gmontoy* \\\n",
        "*July 2023*"
      ]
    },
    {
      "cell_type": "markdown",
      "metadata": {
        "id": "uZf6UgEzq6Lj"
      },
      "source": [
        "## Descriptive"
      ]
    },
    {
      "cell_type": "code",
      "execution_count": 5,
      "metadata": {
        "vscode": {
          "languageId": "plaintext"
        },
        "id": "W2C2E7DKq6Lj",
        "outputId": "764b325f-bcf2-4d85-980e-84798bbe62b4",
        "colab": {
          "base_uri": "https://localhost:8080/"
        }
      },
      "outputs": [
        {
          "output_type": "stream",
          "name": "stdout",
          "text": [
            "   5.1  3.5  1.4  0.2  Iris-setosa\n",
            "0  4.9  3.0  1.4  0.2  Iris-setosa\n",
            "1  4.7  3.2  1.3  0.2  Iris-setosa\n",
            "2  4.6  3.1  1.5  0.2  Iris-setosa\n",
            "3  5.0  3.6  1.4  0.2  Iris-setosa\n",
            "4  5.4  3.9  1.7  0.4  Iris-setosa\n"
          ]
        }
      ],
      "source": [
        "import pandas as pd\n",
        "\n",
        "# The URL of the Iris dataset\n",
        "url = \"https://archive.ics.uci.edu/ml/machine-learning-databases/iris/iris.data\"\n",
        "\n",
        "# Import the dataset as a Pandas DataFrame\n",
        "df = pd.read_csv(url)\n",
        "\n",
        "# Print the first few rows of the DataFrame\n",
        "print(df.head())"
      ]
    }
  ],
  "metadata": {
    "language_info": {
      "name": "python"
    },
    "orig_nbformat": 4,
    "colab": {
      "provenance": [],
      "toc_visible": true
    },
    "kernelspec": {
      "name": "python3",
      "display_name": "Python 3"
    }
  },
  "nbformat": 4,
  "nbformat_minor": 0
}